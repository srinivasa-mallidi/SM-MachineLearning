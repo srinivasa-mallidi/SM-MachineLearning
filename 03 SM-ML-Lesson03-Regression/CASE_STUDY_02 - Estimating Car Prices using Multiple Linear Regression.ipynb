{
 "cells": [
  {
   "cell_type": "markdown",
   "id": "cd27ac5d-f066-4940-a68d-f431c3c15203",
   "metadata": {},
   "source": [
    "<h1>Estimating Car Prices using Multiple Linear Regression</h1>"
   ]
  },
  {
   "cell_type": "markdown",
   "id": "b83ee258-bfc8-4775-b27b-728cce886033",
   "metadata": {},
   "source": [
    "#### Introduction:\n",
    "\n",
    "In the rapidly evolving automobile market, understanding the factors that influence car prices is crucial for both sellers and buyers. This case study aims to predict the selling price of used cars based on various features such as the car's year, mileage, engine specifications, and other relevant attributes. By leveraging statistical modeling techniques, particularly Multiple Linear Regression (MLR), we can identify the key determinants of car prices and make informed predictions that assist in decision-making processes.\n",
    "\n",
    "#### Dataset Overview:\n",
    "\n",
    "The dataset for this case study, \"car_price_prediction.csv,\" comprises multiple features of used cars that are believed to influence their selling prices. The dataset includes the following columns:\n",
    "\n",
    "-   **name**: The name of the car model.\n",
    "-   **year**: The year the car was manufactured.\n",
    "-   **selling_price**: The price at which the car is sold.\n",
    "-   **km_driven**: The total kilometers the car has been driven.\n",
    "-   **fuel**: The type of fuel used by the car (e.g., Petrol, Diesel, LPG).\n",
    "-   **seller_type**: The type of seller (e.g., Individual, Dealer).\n",
    "-   **transmission**: The type of transmission (e.g., Manual, Automatic).\n",
    "-   **owner**: The ownership status (e.g., First Owner, Second Owner).\n",
    "-   **mileage**: The mileage of the car in kilometers per liter (or equivalent).\n",
    "-   **engine**: The engine size of the car in cubic centimeters (cc).\n",
    "-   **max_power**: The maximum power output of the car in horsepower (hp).\n",
    "-   **seats**: The number of seats in the car.\n",
    "\n",
    "This dataset provides a comprehensive view of various factors that can affect the selling price of a car, making it an ideal candidate for a regression analysis."
   ]
  },
  {
   "cell_type": "markdown",
   "id": "b1e03bcd-bc63-4657-afe1-514fc420cfde",
   "metadata": {},
   "source": [
    "#### Why Choose Multiple Linear Regression (MLR):\n",
    "\n",
    "Multiple Linear Regression (MLR) is chosen for this dataset due to several compelling reasons:\n",
    "\n",
    "1.  **Predictive Goal**:\n",
    "\n",
    "    -   The primary goal is to predict a continuous variable (selling_price) based on multiple predictor variables. MLR is designed for such predictive tasks, making it a suitable choice.\n",
    "2.  **Nature of the Relationship**:\n",
    "\n",
    "    -   MLR assumes a linear relationship between the dependent variable (selling_price) and the independent variables (features). Given that many economic and market-driven phenomena exhibit approximately linear relationships, this assumption is reasonable for our dataset.\n",
    "3.  **Simplicity and Interpretability**:\n",
    "\n",
    "    -   MLR provides clear interpretability of the model coefficients, helping us understand how each feature impacts the selling price. This interpretability is essential for stakeholders who need insights into the determinants of car prices.\n",
    "4.  **Handling of Multiple Predictors**:\n",
    "\n",
    "    -   MLR can simultaneously consider multiple predictors, providing a comprehensive model that accounts for the combined effects of various car features on the selling price.\n",
    "5.  **Computational Efficiency**:\n",
    "\n",
    "    -   Compared to more complex models (e.g., neural networks, ensemble methods), MLR is computationally efficient and easy to implement. This makes it a practical choice, especially for preliminary analysis and datasets of moderate size.\n",
    "6.  **Baseline Performance**:\n",
    "\n",
    "    -   MLR serves as a robust baseline model. Even if more complex models are considered later, MLR provides a benchmark for comparison, ensuring that any additional complexity in the model is justified by significant improvements in predictive performance."
   ]
  },
  {
   "cell_type": "markdown",
   "id": "d04e62d9-e93d-4711-a331-761474245609",
   "metadata": {},
   "source": [
    "## Steps for Multiple Linear Regression:"
   ]
  },
  {
   "cell_type": "markdown",
   "id": "2c239460-0dee-4f08-ab10-a62e9d2e7f0c",
   "metadata": {},
   "source": [
    "#### Step 1: Load the Data\n",
    "\n",
    "First, load the dataset and perform initial exploratory data analysis (EDA)."
   ]
  },
  {
   "cell_type": "code",
   "execution_count": 19,
   "id": "a97ce407-da72-449a-a615-83e27a5ad7bd",
   "metadata": {},
   "outputs": [
    {
     "name": "stdout",
     "output_type": "stream",
     "text": [
      "                           name  year  selling_price  km_driven    fuel  \\\n",
      "0        Maruti Swift Dzire VDI  2014         450000     145500  Diesel   \n",
      "1  Skoda Rapid 1.5 TDI Ambition  2014         370000     120000  Diesel   \n",
      "2      Honda City 2017-2020 EXi  2006         158000     140000  Petrol   \n",
      "3     Hyundai i20 Sportz Diesel  2010         225000     127000  Diesel   \n",
      "4        Maruti Swift VXI BSIII  2007         130000     120000  Petrol   \n",
      "\n",
      "  seller_type transmission         owner  mileage(km/ltr/kg)  engine  \\\n",
      "0  Individual       Manual   First Owner               23.40  1248.0   \n",
      "1  Individual       Manual  Second Owner               21.14  1498.0   \n",
      "2  Individual       Manual   Third Owner               17.70  1497.0   \n",
      "3  Individual       Manual   First Owner               23.00  1396.0   \n",
      "4  Individual       Manual   First Owner               16.10  1298.0   \n",
      "\n",
      "  max_power  seats  \n",
      "0        74    5.0  \n",
      "1    103.52    5.0  \n",
      "2        78    5.0  \n",
      "3        90    5.0  \n",
      "4      88.2    5.0  \n"
     ]
    }
   ],
   "source": [
    "import pandas as pd\n",
    "\n",
    "# Load the dataset\n",
    "data = pd.read_csv('../Datasets/car_price_prediction.csv')\n",
    "\n",
    "# Display the first few rows of the dataset\n",
    "print(data.head())\n"
   ]
  },
  {
   "cell_type": "markdown",
   "id": "b968129b-0776-4a2f-b06d-a619f40760f4",
   "metadata": {},
   "source": [
    "#### Step 2: Data Cleaning\n",
    "\n",
    "Ensure the data is clean and ready for modeling. Handle missing values and categorical data."
   ]
  },
  {
   "cell_type": "code",
   "execution_count": 23,
   "id": "c16b5b4d-b68f-4808-a8f1-d8c114421bda",
   "metadata": {},
   "outputs": [
    {
     "name": "stdout",
     "output_type": "stream",
     "text": [
      "year                  0\n",
      "selling_price         0\n",
      "km_driven             0\n",
      "mileage(km/ltr/kg)    0\n",
      "engine                0\n",
      "                     ..\n",
      "max_power_98.96       0\n",
      "max_power_98.97       0\n",
      "max_power_99          0\n",
      "max_power_99.23       0\n",
      "max_power_99.6        0\n",
      "Length: 2316, dtype: int64\n"
     ]
    }
   ],
   "source": [
    "# Check for missing values\n",
    "print(data.isnull().sum())\n",
    "\n",
    "# Fill or drop missing values if necessary\n",
    "data = data.dropna()\n",
    "\n",
    "# Encode categorical variables\n",
    "data = pd.get_dummies(data, drop_first=True)\n"
   ]
  },
  {
   "cell_type": "markdown",
   "id": "f2d07939-ac11-4b4c-a586-5de009ce5127",
   "metadata": {},
   "source": [
    "#### Step 3: Feature Selection\n",
    "\n",
    "Select the features that will be used for prediction. Here, we might select all the columns except `name` and `selling_price`."
   ]
  },
  {
   "cell_type": "code",
   "execution_count": 5,
   "id": "7d0f6b7b-5df6-4096-9d4f-04f8d722d63f",
   "metadata": {},
   "outputs": [],
   "source": [
    "# Define the independent variables (features)\n",
    "X = data.drop(['selling_price'], axis=1)\n",
    "\n",
    "# Define the dependent variable (target)\n",
    "y = data['selling_price']\n"
   ]
  },
  {
   "cell_type": "markdown",
   "id": "77d29cce-06ae-4943-848a-7f5acf530aef",
   "metadata": {},
   "source": [
    "#### Step 4: Split the Data\n",
    "\n",
    "Split the data into training and testing sets."
   ]
  },
  {
   "cell_type": "code",
   "execution_count": 6,
   "id": "a11c93b4-bf99-47a4-ba83-5d43321ea881",
   "metadata": {},
   "outputs": [],
   "source": [
    "from sklearn.model_selection import train_test_split\n",
    "\n",
    "# Split the data into training and testing sets\n",
    "X_train, X_test, y_train, y_test = train_test_split(X, y, test_size=0.2, random_state=42)\n"
   ]
  },
  {
   "cell_type": "markdown",
   "id": "3fe89ca0-e914-4ac4-9705-b2547c3a25aa",
   "metadata": {},
   "source": [
    "#### Step 5: Train the Model\n",
    "\n",
    "Train the multiple linear regression model."
   ]
  },
  {
   "cell_type": "code",
   "execution_count": 8,
   "id": "cb5f4cab-79af-46ae-8920-40e55180868f",
   "metadata": {},
   "outputs": [
    {
     "data": {
      "text/html": [
       "<style>#sk-container-id-1 {color: black;background-color: white;}#sk-container-id-1 pre{padding: 0;}#sk-container-id-1 div.sk-toggleable {background-color: white;}#sk-container-id-1 label.sk-toggleable__label {cursor: pointer;display: block;width: 100%;margin-bottom: 0;padding: 0.3em;box-sizing: border-box;text-align: center;}#sk-container-id-1 label.sk-toggleable__label-arrow:before {content: \"▸\";float: left;margin-right: 0.25em;color: #696969;}#sk-container-id-1 label.sk-toggleable__label-arrow:hover:before {color: black;}#sk-container-id-1 div.sk-estimator:hover label.sk-toggleable__label-arrow:before {color: black;}#sk-container-id-1 div.sk-toggleable__content {max-height: 0;max-width: 0;overflow: hidden;text-align: left;background-color: #f0f8ff;}#sk-container-id-1 div.sk-toggleable__content pre {margin: 0.2em;color: black;border-radius: 0.25em;background-color: #f0f8ff;}#sk-container-id-1 input.sk-toggleable__control:checked~div.sk-toggleable__content {max-height: 200px;max-width: 100%;overflow: auto;}#sk-container-id-1 input.sk-toggleable__control:checked~label.sk-toggleable__label-arrow:before {content: \"▾\";}#sk-container-id-1 div.sk-estimator input.sk-toggleable__control:checked~label.sk-toggleable__label {background-color: #d4ebff;}#sk-container-id-1 div.sk-label input.sk-toggleable__control:checked~label.sk-toggleable__label {background-color: #d4ebff;}#sk-container-id-1 input.sk-hidden--visually {border: 0;clip: rect(1px 1px 1px 1px);clip: rect(1px, 1px, 1px, 1px);height: 1px;margin: -1px;overflow: hidden;padding: 0;position: absolute;width: 1px;}#sk-container-id-1 div.sk-estimator {font-family: monospace;background-color: #f0f8ff;border: 1px dotted black;border-radius: 0.25em;box-sizing: border-box;margin-bottom: 0.5em;}#sk-container-id-1 div.sk-estimator:hover {background-color: #d4ebff;}#sk-container-id-1 div.sk-parallel-item::after {content: \"\";width: 100%;border-bottom: 1px solid gray;flex-grow: 1;}#sk-container-id-1 div.sk-label:hover label.sk-toggleable__label {background-color: #d4ebff;}#sk-container-id-1 div.sk-serial::before {content: \"\";position: absolute;border-left: 1px solid gray;box-sizing: border-box;top: 0;bottom: 0;left: 50%;z-index: 0;}#sk-container-id-1 div.sk-serial {display: flex;flex-direction: column;align-items: center;background-color: white;padding-right: 0.2em;padding-left: 0.2em;position: relative;}#sk-container-id-1 div.sk-item {position: relative;z-index: 1;}#sk-container-id-1 div.sk-parallel {display: flex;align-items: stretch;justify-content: center;background-color: white;position: relative;}#sk-container-id-1 div.sk-item::before, #sk-container-id-1 div.sk-parallel-item::before {content: \"\";position: absolute;border-left: 1px solid gray;box-sizing: border-box;top: 0;bottom: 0;left: 50%;z-index: -1;}#sk-container-id-1 div.sk-parallel-item {display: flex;flex-direction: column;z-index: 1;position: relative;background-color: white;}#sk-container-id-1 div.sk-parallel-item:first-child::after {align-self: flex-end;width: 50%;}#sk-container-id-1 div.sk-parallel-item:last-child::after {align-self: flex-start;width: 50%;}#sk-container-id-1 div.sk-parallel-item:only-child::after {width: 0;}#sk-container-id-1 div.sk-dashed-wrapped {border: 1px dashed gray;margin: 0 0.4em 0.5em 0.4em;box-sizing: border-box;padding-bottom: 0.4em;background-color: white;}#sk-container-id-1 div.sk-label label {font-family: monospace;font-weight: bold;display: inline-block;line-height: 1.2em;}#sk-container-id-1 div.sk-label-container {text-align: center;}#sk-container-id-1 div.sk-container {/* jupyter's `normalize.less` sets `[hidden] { display: none; }` but bootstrap.min.css set `[hidden] { display: none !important; }` so we also need the `!important` here to be able to override the default hidden behavior on the sphinx rendered scikit-learn.org. See: https://github.com/scikit-learn/scikit-learn/issues/21755 */display: inline-block !important;position: relative;}#sk-container-id-1 div.sk-text-repr-fallback {display: none;}</style><div id=\"sk-container-id-1\" class=\"sk-top-container\"><div class=\"sk-text-repr-fallback\"><pre>LinearRegression()</pre><b>In a Jupyter environment, please rerun this cell to show the HTML representation or trust the notebook. <br />On GitHub, the HTML representation is unable to render, please try loading this page with nbviewer.org.</b></div><div class=\"sk-container\" hidden><div class=\"sk-item\"><div class=\"sk-estimator sk-toggleable\"><input class=\"sk-toggleable__control sk-hidden--visually\" id=\"sk-estimator-id-1\" type=\"checkbox\" checked><label for=\"sk-estimator-id-1\" class=\"sk-toggleable__label sk-toggleable__label-arrow\">LinearRegression</label><div class=\"sk-toggleable__content\"><pre>LinearRegression()</pre></div></div></div></div></div>"
      ],
      "text/plain": [
       "LinearRegression()"
      ]
     },
     "execution_count": 8,
     "metadata": {},
     "output_type": "execute_result"
    }
   ],
   "source": [
    "from sklearn.linear_model import LinearRegression\n",
    "\n",
    "# Instantiate the model\n",
    "model = LinearRegression()\n",
    "\n",
    "# Fit the model on the training data\n",
    "model.fit(X_train, y_train)\n"
   ]
  },
  {
   "cell_type": "markdown",
   "id": "32ebb3e0-d87c-44d0-af62-94bd027ee093",
   "metadata": {},
   "source": [
    "#### Step 6: Evaluate the Model\n",
    "\n",
    "Evaluate the model's performance on the test set."
   ]
  },
  {
   "cell_type": "code",
   "execution_count": 9,
   "id": "81ebd0b5-3c67-43a3-a780-826be81ea154",
   "metadata": {},
   "outputs": [
    {
     "name": "stdout",
     "output_type": "stream",
     "text": [
      "MAE: 77595.81669650644\n",
      "MSE: 24576595630.31565\n",
      "RMSE: 156769.24325362948\n",
      "R^2: 0.9671242120611796\n"
     ]
    }
   ],
   "source": [
    "from sklearn.metrics import mean_absolute_error, mean_squared_error, r2_score\n",
    "\n",
    "# Make predictions on the test set\n",
    "y_pred = model.predict(X_test)\n",
    "\n",
    "# Calculate evaluation metrics\n",
    "mae = mean_absolute_error(y_test, y_pred)\n",
    "mse = mean_squared_error(y_test, y_pred)\n",
    "rmse = mean_squared_error(y_test, y_pred, squared=False)\n",
    "r2 = r2_score(y_test, y_pred)\n",
    "\n",
    "print(f'MAE: {mae}')\n",
    "print(f'MSE: {mse}')\n",
    "print(f'RMSE: {rmse}')\n",
    "print(f'R^2: {r2}')\n"
   ]
  },
  {
   "cell_type": "markdown",
   "id": "f445dd89-6957-4d73-b5d9-cb23b97718ad",
   "metadata": {},
   "source": [
    "#### Step 7: Interpret the Results\n",
    "\n",
    "Interpret the model coefficients and evaluate the significance of each feature."
   ]
  },
  {
   "cell_type": "code",
   "execution_count": 24,
   "id": "ac90b926-df62-4246-80a3-83edf67d1552",
   "metadata": {},
   "outputs": [
    {
     "name": "stdout",
     "output_type": "stream",
     "text": [
      "                      Coefficient\n",
      "year                 34365.353060\n",
      "km_driven               -0.392782\n",
      "mileage(km/ltr/kg)    4705.540085\n",
      "engine                 512.539428\n",
      "seats              -151096.131589\n",
      "...                           ...\n",
      "max_power_98.96    -142294.939904\n",
      "max_power_98.97    -135028.520049\n",
      "max_power_99       -357499.840273\n",
      "max_power_99.23    -255141.030881\n",
      "max_power_99.6     -298818.634366\n",
      "\n",
      "[2315 rows x 1 columns]\n"
     ]
    }
   ],
   "source": [
    "# Get the model coefficients\n",
    "coefficients = pd.DataFrame(model.coef_, X.columns, columns=['Coefficient'])\n",
    "\n",
    "# Display the coefficients\n",
    "print(coefficients)\n"
   ]
  },
  {
   "cell_type": "code",
   "execution_count": null,
   "id": "a66ab23e-4e05-45c1-8cd3-91e990c7cc7a",
   "metadata": {},
   "outputs": [],
   "source": []
  }
 ],
 "metadata": {
  "kernelspec": {
   "display_name": "Python 3 (ipykernel)",
   "language": "python",
   "name": "python3"
  },
  "language_info": {
   "codemirror_mode": {
    "name": "ipython",
    "version": 3
   },
   "file_extension": ".py",
   "mimetype": "text/x-python",
   "name": "python",
   "nbconvert_exporter": "python",
   "pygments_lexer": "ipython3",
   "version": "3.11.7"
  }
 },
 "nbformat": 4,
 "nbformat_minor": 5
}
