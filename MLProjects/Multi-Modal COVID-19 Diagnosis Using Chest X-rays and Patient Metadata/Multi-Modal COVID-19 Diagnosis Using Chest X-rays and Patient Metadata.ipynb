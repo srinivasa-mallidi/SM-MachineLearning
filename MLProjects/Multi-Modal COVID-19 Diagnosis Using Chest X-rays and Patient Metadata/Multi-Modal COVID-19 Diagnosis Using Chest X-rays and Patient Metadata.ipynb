{
 "cells": [
  {
   "cell_type": "markdown",
   "id": "d0fe7405-973e-4dba-b9d8-5eb8c1c15e13",
   "metadata": {},
   "source": [
    "<h1>Multi-Modal COVID-19 Diagnosis Using Chest X-rays and Patient Metadata</h1>"
   ]
  },
  {
   "cell_type": "markdown",
   "id": "85b0a73d-4c44-41b6-a6cb-01f0e1ec64ae",
   "metadata": {},
   "source": [
    "## Importating Necessary datasets"
   ]
  },
  {
   "cell_type": "code",
   "execution_count": 29,
   "id": "0ea8291e-aa42-4760-a483-1cf11a8a7a2e",
   "metadata": {},
   "outputs": [],
   "source": [
    "import pandas as pd\n",
    "import numpy as np\n",
    "import os\n",
    "from sklearn.model_selection import train_test_split\n",
    "from sklearn.preprocessing import StandardScaler, OneHotEncoder\n",
    "from tensorflow.keras.preprocessing.image import ImageDataGenerator, load_img, img_to_array\n"
   ]
  },
  {
   "cell_type": "markdown",
   "id": "0742031e-2184-4e35-b1a4-302ae676efa7",
   "metadata": {},
   "source": [
    "## Load Metadata"
   ]
  },
  {
   "cell_type": "code",
   "execution_count": 30,
   "id": "4981e583-6f7f-4d36-a516-dcd2e2b1ae4a",
   "metadata": {},
   "outputs": [],
   "source": [
    "metadata_path = 'covid_cx_dataset/metadata.csv'\n",
    "metadata = pd.read_csv(metadata_path)"
   ]
  },
  {
   "cell_type": "code",
   "execution_count": 31,
   "id": "6c498ba8-5b81-4c65-8bda-286adc748456",
   "metadata": {},
   "outputs": [
    {
     "name": "stdout",
     "output_type": "stream",
     "text": [
      "  filename  patient_id     sex   age view     label  pcr_test  survival  \\\n",
      "0  260.jpg          10  female  68.0  NaN  COVID-19  positive       NaN   \n",
      "1  261.jpg          11    male  47.0  NaN  COVID-19  positive       NaN   \n",
      "2  262.jpg          11    male  47.0  NaN  COVID-19  positive       NaN   \n",
      "3  263.jpg          11    male  47.0  NaN  COVID-19  positive       NaN   \n",
      "4  264.jpg          11    male  47.0  NaN  COVID-19  positive       NaN   \n",
      "\n",
      "  location  admission_offset  ...  has_cough  has_dyspnea  has_diarrhea  spo2  \\\n",
      "0    Spain               NaN  ...        1.0          NaN           NaN   NaN   \n",
      "1    Spain               1.0  ...        NaN          NaN           NaN   NaN   \n",
      "2    Spain               4.0  ...        NaN          NaN           NaN   NaN   \n",
      "3    Spain               8.0  ...        NaN          NaN           NaN   NaN   \n",
      "4    Spain              12.0  ...        NaN          NaN           NaN   NaN   \n",
      "\n",
      "   other_symptoms  medical_background  opacification other is_bilateral  \\\n",
      "0             NaN                 NaN            NaN   NaN          NaN   \n",
      "1             NaN                 NaN            NaN   NaN          NaN   \n",
      "2             NaN                 NaN            NaN   NaN          NaN   \n",
      "3             NaN                 NaN            NaN   NaN          NaN   \n",
      "4             NaN                 NaN            NaN   NaN          NaN   \n",
      "\n",
      "                                                 url  \n",
      "0  https://twitter.com/ChestImaging/status/124392...  \n",
      "1  https://twitter.com/ChestImaging/status/124392...  \n",
      "2  https://twitter.com/ChestImaging/status/124392...  \n",
      "3  https://twitter.com/ChestImaging/status/124392...  \n",
      "4  https://twitter.com/ChestImaging/status/124392...  \n",
      "\n",
      "[5 rows x 23 columns]\n"
     ]
    }
   ],
   "source": [
    "print(metadata.head())"
   ]
  },
  {
   "cell_type": "markdown",
   "id": "685d2aae-5acb-4d31-873f-56b0f7a9e48a",
   "metadata": {},
   "source": [
    "## Prepare Image Data\n",
    "Define a function to preprocess images:"
   ]
  },
  {
   "cell_type": "code",
   "execution_count": 32,
   "id": "616d5d5c-f7d9-4f7f-9c10-088ddc74aa56",
   "metadata": {},
   "outputs": [],
   "source": [
    "def preprocess_image(filepath):\n",
    "    img = load_img(filepath, target_size=(224, 224))\n",
    "    img = img_to_array(img)\n",
    "    img = img / 255.0\n",
    "    return img"
   ]
  },
  {
   "cell_type": "markdown",
   "id": "aa00c41b-ae8f-4f85-996f-77d5e2ab85d7",
   "metadata": {},
   "source": [
    "## Process Image Data\n",
    "Extract image paths from metadata and preprocess them:"
   ]
  },
  {
   "cell_type": "code",
   "execution_count": 33,
   "id": "28f1ae5f-5a9f-4799-99bb-f23446d734b0",
   "metadata": {},
   "outputs": [],
   "source": [
    "image_folder = 'covid_cx_dataset/covid19/'\n",
    "metadata['filepath'] = image_folder + metadata['filename'].astype(str)\n",
    "\n",
    "train_metadata, val_metadata = train_test_split(metadata, test_size=0.2, random_state=42)\n",
    "\n",
    "train_images = np.array([preprocess_image(filepath) for filepath in train_metadata['filepath']])\n",
    "val_images = np.array([preprocess_image(filepath) for filepath in val_metadata['filepath']])"
   ]
  },
  {
   "cell_type": "markdown",
   "id": "6fecd74d-e5ac-46f1-819d-3c9076ee9e08",
   "metadata": {},
   "source": [
    "## Process Tabular Data\n",
    "Select relevant features and preprocess them:"
   ]
  },
  {
   "cell_type": "code",
   "execution_count": 34,
   "id": "bcdc3bd7-88be-4ff1-9339-ebced7e0aa3a",
   "metadata": {},
   "outputs": [
    {
     "name": "stderr",
     "output_type": "stream",
     "text": [
      "C:\\Users\\srini\\anaconda\\Lib\\site-packages\\sklearn\\preprocessing\\_encoders.py:868: FutureWarning: `sparse` was renamed to `sparse_output` in version 1.2 and will be removed in 1.4. `sparse_output` is ignored unless you leave `sparse` to its default value.\n",
      "  warnings.warn(\n"
     ]
    }
   ],
   "source": [
    "# Select numerical and categorical columns\n",
    "numerical_cols = ['age', 'has_fever', 'has_cough', 'has_dyspnea']\n",
    "categorical_cols = ['sex']\n",
    "\n",
    "# Fill missing numerical values with 0 (or other suitable strategies)\n",
    "X_train_num = train_metadata[numerical_cols].fillna(0)\n",
    "X_val_num = val_metadata[numerical_cols].fillna(0)\n",
    "\n",
    "# One-hot encode categorical columns\n",
    "encoder = OneHotEncoder(sparse=False, handle_unknown='ignore')\n",
    "X_train_cat = encoder.fit_transform(train_metadata[categorical_cols])\n",
    "X_val_cat = encoder.transform(val_metadata[categorical_cols])\n",
    "\n",
    "# Concatenate numerical and encoded categorical data\n",
    "X_train_tabular = np.concatenate([X_train_num, X_train_cat], axis=1)\n",
    "X_val_tabular = np.concatenate([X_val_num, X_val_cat], axis=1)\n",
    "\n",
    "# Standardize numerical features\n",
    "scaler = StandardScaler()\n",
    "X_train_tabular_scaled = scaler.fit_transform(X_train_tabular)\n",
    "X_val_tabular_scaled = scaler.transform(X_val_tabular)\n"
   ]
  },
  {
   "cell_type": "markdown",
   "id": "6acfdb6a-5683-49d9-aba5-ed402af5eccf",
   "metadata": {},
   "source": [
    "## Combine Image and Tabular Data\n",
    "Prepare combined input for training (as per your specific model requirements):"
   ]
  },
  {
   "cell_type": "code",
   "execution_count": 36,
   "id": "5db765e1-d8ea-4490-ba1a-538e8c74cacb",
   "metadata": {},
   "outputs": [],
   "source": [
    "y_train = train_metadata['label']\n",
    "y_val = val_metadata['label']\n",
    "\n",
    "# Example of combining image and tabular data using tf.data.Dataset or other methods\n"
   ]
  },
  {
   "cell_type": "markdown",
   "id": "fda734f6-6484-4010-a782-7c2a14c57019",
   "metadata": {},
   "source": [
    "## Build and Train Model\n",
    "Build a deep learning model combining image and tabular data:"
   ]
  },
  {
   "cell_type": "code",
   "execution_count": null,
   "id": "e7072863-32a6-480f-aa37-07982987d29c",
   "metadata": {},
   "outputs": [],
   "source": []
  },
  {
   "cell_type": "markdown",
   "id": "f7b2eed9-459b-42fd-a3ef-b1d6d00d8f02",
   "metadata": {},
   "source": [
    "## Evaluate Model Performance\n",
    "Evaluate the model on validation data and iterate as needed:"
   ]
  },
  {
   "cell_type": "code",
   "execution_count": null,
   "id": "d27fb597-5f74-4c26-abba-45aae5b28d4a",
   "metadata": {},
   "outputs": [],
   "source": []
  }
 ],
 "metadata": {
  "kernelspec": {
   "display_name": "Python 3 (ipykernel)",
   "language": "python",
   "name": "python3"
  },
  "language_info": {
   "codemirror_mode": {
    "name": "ipython",
    "version": 3
   },
   "file_extension": ".py",
   "mimetype": "text/x-python",
   "name": "python",
   "nbconvert_exporter": "python",
   "pygments_lexer": "ipython3",
   "version": "3.11.7"
  }
 },
 "nbformat": 4,
 "nbformat_minor": 5
}
