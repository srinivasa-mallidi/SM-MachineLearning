{
 "cells": [
  {
   "cell_type": "markdown",
   "id": "95a3f598-db51-424d-8f18-8eac90cc3ad4",
   "metadata": {},
   "source": [
    "## Importing Libraries and Loading Metadata\n",
    "-   Import necessary libraries: Pandas for data handling, NumPy for numerical operations, OS for file operations, scikit-learn for data preprocessing, and TensorFlow/Keras for deep learning.\n",
    "-   Load the metadata CSV file containing information about images and associated tabular data using Pandas."
   ]
  },
  {
   "cell_type": "code",
   "execution_count": 12,
   "id": "a8d143c1-633d-4d05-8528-3dd1ae00e585",
   "metadata": {},
   "outputs": [],
   "source": [
    "import pandas as pd\n",
    "import numpy as np\n",
    "import os\n",
    "from sklearn.model_selection import train_test_split\n",
    "from sklearn.preprocessing import StandardScaler, OneHotEncoder\n",
    "from tensorflow.keras.preprocessing.image import ImageDataGenerator, load_img, img_to_array\n",
    "from tensorflow.keras.models import Model\n",
    "from tensorflow.keras.layers import Input, Conv2D, MaxPooling2D, Flatten, Dense, Concatenate\n",
    "\n",
    "# Load metadata\n",
    "metadata_path = 'covid_cx_dataset/metadata.csv'\n",
    "metadata = pd.read_csv(metadata_path)"
   ]
  },
  {
   "cell_type": "markdown",
   "id": "837fa055-c71a-4821-8629-ddd349819f23",
   "metadata": {},
   "source": [
    "## Image Preprocessing Function\n",
    "-    `preprocess_image` function loads an image from a file path, resizes it to 224x224 pixels, converts it to a NumPy array, and normalizes pixel values to the range [0, 1]."
   ]
  },
  {
   "cell_type": "code",
   "execution_count": 2,
   "id": "35a3a7b6-46e2-476a-b9ce-f36765d2e2e7",
   "metadata": {},
   "outputs": [],
   "source": [
    "# Define function to preprocess images\n",
    "def preprocess_image(filepath):\n",
    "    img = load_img(filepath, target_size=(224, 224))\n",
    "    img = img_to_array(img)\n",
    "    img = img / 255.0\n",
    "    return img"
   ]
  },
  {
   "cell_type": "markdown",
   "id": "d0874d3e-8628-4b81-b151-52b5dbcfe989",
   "metadata": {},
   "source": [
    "## Creating File Paths for Images\n"
   ]
  },
  {
   "cell_type": "code",
   "execution_count": 18,
   "id": "03ae43a1-884b-4ee6-a1ef-15556eb15c8f",
   "metadata": {},
   "outputs": [],
   "source": [
    "# Prepare image file paths and labels\n",
    "metadata['filepath'] = metadata['filename'].apply(lambda x: os.path.join('covid_cx_dataset/covid19', x))\n",
    "labels = metadata['label']\n"
   ]
  },
  {
   "cell_type": "markdown",
   "id": "4ce53764-6f2c-4083-b0a7-a6a981f39ec6",
   "metadata": {},
   "source": [
    "## Splitting Data into Train and Validation Sets\n",
    "\n",
    "-    Uses `train_test_split` from scikit-learn to split `metadata` into training (`train_metadata`) and validation (`val_metadata`) sets with a 80-20 ratio."
   ]
  },
  {
   "cell_type": "code",
   "execution_count": 19,
   "id": "9dc8c919-9bfa-4cfe-89d3-5f70ede70320",
   "metadata": {},
   "outputs": [],
   "source": [
    "# Split data into training and validation sets\n",
    "train_metadata, val_metadata = train_test_split(metadata, test_size=0.2, random_state=42)\n"
   ]
  },
  {
   "cell_type": "code",
   "execution_count": 20,
   "id": "67469fc6-a9d9-41d2-9513-87728bd1571c",
   "metadata": {},
   "outputs": [
    {
     "name": "stdout",
     "output_type": "stream",
     "text": [
      "     filename  patient_id     sex   age view     label  pcr_test  survival  \\\n",
      "24    284.jpg          19    male  76.0  NaN  COVID-19  positive       NaN   \n",
      "17    277.jpg          16    male  70.0  NaN  COVID-19  positive       NaN   \n",
      "66    326.jpg          36  female  76.0  NaN  COVID-19  positive       NaN   \n",
      "148  411.jpeg         102    male  70.0   AP  COVID-19       NaN       NaN   \n",
      "249   678.jpg         168  female  68.0   AP  COVID-19  positive       1.0   \n",
      "\n",
      "    location  admission_offset  ...  has_dyspnea  has_diarrhea  spo2  \\\n",
      "24     Spain               5.0  ...          2.0           NaN   NaN   \n",
      "17     Spain               5.0  ...          NaN           NaN   NaN   \n",
      "66     Spain               3.0  ...          1.0           NaN   NaN   \n",
      "148       UK               6.0  ...          1.0           NaN   NaN   \n",
      "249       UK              12.0  ...          NaN           NaN   NaN   \n",
      "\n",
      "     other_symptoms              medical_background  opacification  other  \\\n",
      "24              NaN                             NaN            NaN    NaN   \n",
      "17              NaN                             NaN            NaN    NaN   \n",
      "66              NaN                             NaN            NaN    NaN   \n",
      "148             NaN                      transplant            1.0    NaN   \n",
      "249             NaN  kidney disease, dental abscess            1.0    NaN   \n",
      "\n",
      "    is_bilateral                                                url  \\\n",
      "24           NaN  https://twitter.com/ChestImaging/status/124392...   \n",
      "17           NaN  https://twitter.com/ChestImaging/status/124392...   \n",
      "66           NaN  https://twitter.com/ChestImaging/status/124392...   \n",
      "148          1.0  https://radiopaedia.org/cases/covid-19-pneumon...   \n",
      "249          1.0         https://doi.org/10.1016/j.idcr.2020.e00834   \n",
      "\n",
      "                              filepath  \n",
      "24    covid_cx_dataset/covid19\\284.jpg  \n",
      "17    covid_cx_dataset/covid19\\277.jpg  \n",
      "66    covid_cx_dataset/covid19\\326.jpg  \n",
      "148  covid_cx_dataset/covid19\\411.jpeg  \n",
      "249   covid_cx_dataset/covid19\\678.jpg  \n",
      "\n",
      "[5 rows x 24 columns]\n"
     ]
    }
   ],
   "source": [
    "print(train_metadata.head())"
   ]
  },
  {
   "cell_type": "code",
   "execution_count": 21,
   "id": "2183f7c5-18ec-45df-ab27-a718359c562d",
   "metadata": {},
   "outputs": [
    {
     "name": "stdout",
     "output_type": "stream",
     "text": [
      "    filename  patient_id     sex   age view     label  pcr_test  survival  \\\n",
      "407  858.png         269  female  80.0   AP  COVID-19  positive       0.0   \n",
      "444  895.jpg         299    male  63.0   AP  COVID-19  positive       NaN   \n",
      "117  377.png          63     NaN   NaN  NaN  COVID-19       NaN       NaN   \n",
      "30   290.jpg          21    male  73.0  NaN  COVID-19  positive       NaN   \n",
      "415  866.png         273    male  77.0   AP  COVID-19  positive       NaN   \n",
      "\n",
      "    location  admission_offset  ...  has_dyspnea  has_diarrhea  spo2  \\\n",
      "407   Jordan              17.0  ...          NaN           NaN   NaN   \n",
      "444    Italy               NaN  ...          NaN           NaN   NaN   \n",
      "117       US               NaN  ...          NaN           NaN   NaN   \n",
      "30     Spain               3.0  ...          1.0           NaN   NaN   \n",
      "415    Italy               NaN  ...          1.0           NaN  84.0   \n",
      "\n",
      "     other_symptoms      medical_background  opacification  other  \\\n",
      "407             NaN                     NaN            1.0    NaN   \n",
      "444             NaN                     NaN            1.0    NaN   \n",
      "117             NaN                     NaN            1.0    NaN   \n",
      "30              NaN                     NaN            NaN    NaN   \n",
      "415             NaN  diabetes, hypertension            1.0    NaN   \n",
      "\n",
      "    is_bilateral                                                url  \\\n",
      "407          1.0  https://link.springer.com/article/10.1186/s128...   \n",
      "444          1.0  https://link.springer.com/article/10.1007/s101...   \n",
      "117          1.0  https://www.ncbi.nlm.nih.gov/pmc/articles/PMC7...   \n",
      "30           NaN  https://twitter.com/ChestImaging/status/124392...   \n",
      "415          1.0              https://doi.org/10.4269/ajtmh.20-0535   \n",
      "\n",
      "                             filepath  \n",
      "407  covid_cx_dataset/covid19\\858.png  \n",
      "444  covid_cx_dataset/covid19\\895.jpg  \n",
      "117  covid_cx_dataset/covid19\\377.png  \n",
      "30   covid_cx_dataset/covid19\\290.jpg  \n",
      "415  covid_cx_dataset/covid19\\866.png  \n",
      "\n",
      "[5 rows x 24 columns]\n"
     ]
    }
   ],
   "source": [
    "print(val_metadata.head())"
   ]
  },
  {
   "cell_type": "markdown",
   "id": "27811bf7-ed85-401c-93a4-b608ca217b4e",
   "metadata": {},
   "source": [
    "## Preparing Image Data\n",
    "\n",
    "-   Uses list comprehension to preprocess each image file path in `train_metadata` and `val_metadata`.\n",
    "-   Converts processed images into NumPy arrays and stores them in `train_images` and `val_images`."
   ]
  },
  {
   "cell_type": "code",
   "execution_count": 22,
   "id": "a320c024-f630-4b85-8cb0-854a4d1a1eb1",
   "metadata": {},
   "outputs": [],
   "source": [
    "# Process image data\n",
    "train_images = np.array([preprocess_image(filepath) for filepath in train_metadata['filepath']])\n",
    "val_images = np.array([preprocess_image(filepath) for filepath in val_metadata['filepath']])"
   ]
  },
  {
   "cell_type": "markdown",
   "id": "badd3f1f-a256-4648-9f93-13132164ccab",
   "metadata": {},
   "source": [
    "## Preparing Tabular Data\n"
   ]
  },
  {
   "cell_type": "code",
   "execution_count": 23,
   "id": "e62f4265-4fb2-47d4-b419-c33e6dec58c3",
   "metadata": {},
   "outputs": [
    {
     "ename": "KeyError",
     "evalue": "\"['sex_numeric'] not in index\"",
     "output_type": "error",
     "traceback": [
      "\u001b[1;31m---------------------------------------------------------------------------\u001b[0m",
      "\u001b[1;31mKeyError\u001b[0m                                  Traceback (most recent call last)",
      "Cell \u001b[1;32mIn[23], line 5\u001b[0m\n\u001b[0;32m      2\u001b[0m feature_cols \u001b[38;5;241m=\u001b[39m [\u001b[38;5;124m'\u001b[39m\u001b[38;5;124mage\u001b[39m\u001b[38;5;124m'\u001b[39m, \u001b[38;5;124m'\u001b[39m\u001b[38;5;124msex_numeric\u001b[39m\u001b[38;5;124m'\u001b[39m, \u001b[38;5;124m'\u001b[39m\u001b[38;5;124madmission_offset\u001b[39m\u001b[38;5;124m'\u001b[39m, \u001b[38;5;124m'\u001b[39m\u001b[38;5;124msymptom_offset\u001b[39m\u001b[38;5;124m'\u001b[39m, \u001b[38;5;124m'\u001b[39m\u001b[38;5;124mhas_fever\u001b[39m\u001b[38;5;124m'\u001b[39m, \u001b[38;5;124m'\u001b[39m\u001b[38;5;124mhas_cough\u001b[39m\u001b[38;5;124m'\u001b[39m, \u001b[38;5;124m'\u001b[39m\u001b[38;5;124mhas_dyspnea\u001b[39m\u001b[38;5;124m'\u001b[39m]\n\u001b[0;32m      4\u001b[0m \u001b[38;5;66;03m# Prepare tabular data\u001b[39;00m\n\u001b[1;32m----> 5\u001b[0m X_train_tabular \u001b[38;5;241m=\u001b[39m train_metadata[feature_cols]\u001b[38;5;241m.\u001b[39mfillna(\u001b[38;5;241m0\u001b[39m)\n\u001b[0;32m      6\u001b[0m X_val_tabular \u001b[38;5;241m=\u001b[39m val_metadata[feature_cols]\u001b[38;5;241m.\u001b[39mfillna(\u001b[38;5;241m0\u001b[39m)\n\u001b[0;32m      8\u001b[0m \u001b[38;5;66;03m# Scale tabular data\u001b[39;00m\n",
      "File \u001b[1;32m~\\anaconda\\Lib\\site-packages\\pandas\\core\\frame.py:3899\u001b[0m, in \u001b[0;36mDataFrame.__getitem__\u001b[1;34m(self, key)\u001b[0m\n\u001b[0;32m   3897\u001b[0m     \u001b[38;5;28;01mif\u001b[39;00m is_iterator(key):\n\u001b[0;32m   3898\u001b[0m         key \u001b[38;5;241m=\u001b[39m \u001b[38;5;28mlist\u001b[39m(key)\n\u001b[1;32m-> 3899\u001b[0m     indexer \u001b[38;5;241m=\u001b[39m \u001b[38;5;28mself\u001b[39m\u001b[38;5;241m.\u001b[39mcolumns\u001b[38;5;241m.\u001b[39m_get_indexer_strict(key, \u001b[38;5;124m\"\u001b[39m\u001b[38;5;124mcolumns\u001b[39m\u001b[38;5;124m\"\u001b[39m)[\u001b[38;5;241m1\u001b[39m]\n\u001b[0;32m   3901\u001b[0m \u001b[38;5;66;03m# take() does not accept boolean indexers\u001b[39;00m\n\u001b[0;32m   3902\u001b[0m \u001b[38;5;28;01mif\u001b[39;00m \u001b[38;5;28mgetattr\u001b[39m(indexer, \u001b[38;5;124m\"\u001b[39m\u001b[38;5;124mdtype\u001b[39m\u001b[38;5;124m\"\u001b[39m, \u001b[38;5;28;01mNone\u001b[39;00m) \u001b[38;5;241m==\u001b[39m \u001b[38;5;28mbool\u001b[39m:\n",
      "File \u001b[1;32m~\\anaconda\\Lib\\site-packages\\pandas\\core\\indexes\\base.py:6115\u001b[0m, in \u001b[0;36mIndex._get_indexer_strict\u001b[1;34m(self, key, axis_name)\u001b[0m\n\u001b[0;32m   6112\u001b[0m \u001b[38;5;28;01melse\u001b[39;00m:\n\u001b[0;32m   6113\u001b[0m     keyarr, indexer, new_indexer \u001b[38;5;241m=\u001b[39m \u001b[38;5;28mself\u001b[39m\u001b[38;5;241m.\u001b[39m_reindex_non_unique(keyarr)\n\u001b[1;32m-> 6115\u001b[0m \u001b[38;5;28mself\u001b[39m\u001b[38;5;241m.\u001b[39m_raise_if_missing(keyarr, indexer, axis_name)\n\u001b[0;32m   6117\u001b[0m keyarr \u001b[38;5;241m=\u001b[39m \u001b[38;5;28mself\u001b[39m\u001b[38;5;241m.\u001b[39mtake(indexer)\n\u001b[0;32m   6118\u001b[0m \u001b[38;5;28;01mif\u001b[39;00m \u001b[38;5;28misinstance\u001b[39m(key, Index):\n\u001b[0;32m   6119\u001b[0m     \u001b[38;5;66;03m# GH 42790 - Preserve name from an Index\u001b[39;00m\n",
      "File \u001b[1;32m~\\anaconda\\Lib\\site-packages\\pandas\\core\\indexes\\base.py:6179\u001b[0m, in \u001b[0;36mIndex._raise_if_missing\u001b[1;34m(self, key, indexer, axis_name)\u001b[0m\n\u001b[0;32m   6176\u001b[0m     \u001b[38;5;28;01mraise\u001b[39;00m \u001b[38;5;167;01mKeyError\u001b[39;00m(\u001b[38;5;124mf\u001b[39m\u001b[38;5;124m\"\u001b[39m\u001b[38;5;124mNone of [\u001b[39m\u001b[38;5;132;01m{\u001b[39;00mkey\u001b[38;5;132;01m}\u001b[39;00m\u001b[38;5;124m] are in the [\u001b[39m\u001b[38;5;132;01m{\u001b[39;00maxis_name\u001b[38;5;132;01m}\u001b[39;00m\u001b[38;5;124m]\u001b[39m\u001b[38;5;124m\"\u001b[39m)\n\u001b[0;32m   6178\u001b[0m not_found \u001b[38;5;241m=\u001b[39m \u001b[38;5;28mlist\u001b[39m(ensure_index(key)[missing_mask\u001b[38;5;241m.\u001b[39mnonzero()[\u001b[38;5;241m0\u001b[39m]]\u001b[38;5;241m.\u001b[39munique())\n\u001b[1;32m-> 6179\u001b[0m \u001b[38;5;28;01mraise\u001b[39;00m \u001b[38;5;167;01mKeyError\u001b[39;00m(\u001b[38;5;124mf\u001b[39m\u001b[38;5;124m\"\u001b[39m\u001b[38;5;132;01m{\u001b[39;00mnot_found\u001b[38;5;132;01m}\u001b[39;00m\u001b[38;5;124m not in index\u001b[39m\u001b[38;5;124m\"\u001b[39m)\n",
      "\u001b[1;31mKeyError\u001b[0m: \"['sex_numeric'] not in index\""
     ]
    }
   ],
   "source": [
    "# Define features for tabular data\n",
    "feature_cols = ['age', 'sex_numeric', 'admission_offset', 'symptom_offset', 'has_fever', 'has_cough', 'has_dyspnea']\n",
    "\n",
    "# Prepare tabular data\n",
    "X_train_tabular = train_metadata[feature_cols].fillna(0)\n",
    "X_val_tabular = val_metadata[feature_cols].fillna(0)\n",
    "\n",
    "# Scale tabular data\n",
    "scaler = StandardScaler()\n",
    "X_train_tabular_scaled = scaler.fit_transform(X_train_tabular)\n",
    "X_val_tabular_scaled = scaler.transform(X_val_tabular)\n",
    "\n",
    "# Define input shape for tabular data\n",
    "input_shape_tabular = (X_train_tabular_scaled.shape[1],)\n"
   ]
  },
  {
   "cell_type": "markdown",
   "id": "d120cc78-7d4d-4d23-ba1d-683a404c39ec",
   "metadata": {},
   "source": [
    "##  Standardizing Tabular Data\n",
    "\n",
    "Uses StandardScaler to standardize (fit_transform for training and transform for validation) X_train_tabular and X_val_tabular."
   ]
  },
  {
   "cell_type": "code",
   "execution_count": 10,
   "id": "d60cec20-18ff-4515-83d1-8d655c6953fc",
   "metadata": {},
   "outputs": [],
   "source": [
    "# Standardize numerical features\n",
    "scaler = StandardScaler()\n",
    "X_train_tabular_scaled = scaler.fit_transform(X_train_tabular)\n",
    "X_val_tabular_scaled = scaler.transform(X_val_tabular)"
   ]
  },
  {
   "cell_type": "markdown",
   "id": "9a80bb19-4164-4b38-9d0e-960941dfbf3a",
   "metadata": {},
   "source": [
    "## Building the Model\n",
    "\n",
    "-   Defines input shapes for image (`input_shape_img`) and tabular (`input_shape_tabular`) data.\n",
    "-   Constructs the model using the Functional API of Keras:\n",
    "    -   **Image Branch**: Convolves and pools the image data.\n",
    "    -   **Tabular Branch**: Passes tabular data through dense layers.\n",
    "    -   **Concatenation**: Combines outputs of image and tabular branches.\n",
    "    -   **Output Layer**: Uses `sigmoid` activation for binary classification (adjust as needed).\n",
    "-   Compiles the model with `adam` optimizer, `binary_crossentropy` loss function, and `accuracy` metric."
   ]
  },
  {
   "cell_type": "code",
   "execution_count": 11,
   "id": "c99f69cb-2595-4def-b2c9-957462acc2bd",
   "metadata": {},
   "outputs": [
    {
     "ename": "ValueError",
     "evalue": "Cannot convert '7' to a shape.",
     "output_type": "error",
     "traceback": [
      "\u001b[1;31m---------------------------------------------------------------------------\u001b[0m",
      "\u001b[1;31mValueError\u001b[0m                                Traceback (most recent call last)",
      "Cell \u001b[1;32mIn[11], line 16\u001b[0m\n\u001b[0;32m     13\u001b[0m x \u001b[38;5;241m=\u001b[39m Flatten()(x)\n\u001b[0;32m     15\u001b[0m \u001b[38;5;66;03m# Tabular input branch\u001b[39;00m\n\u001b[1;32m---> 16\u001b[0m tabular_input \u001b[38;5;241m=\u001b[39m Input(shape\u001b[38;5;241m=\u001b[39minput_shape_tabular, name\u001b[38;5;241m=\u001b[39m\u001b[38;5;124m'\u001b[39m\u001b[38;5;124mtabular_input\u001b[39m\u001b[38;5;124m'\u001b[39m)\n\u001b[0;32m     17\u001b[0m y \u001b[38;5;241m=\u001b[39m Dense(\u001b[38;5;241m64\u001b[39m, activation\u001b[38;5;241m=\u001b[39m\u001b[38;5;124m'\u001b[39m\u001b[38;5;124mrelu\u001b[39m\u001b[38;5;124m'\u001b[39m)(tabular_input)\n\u001b[0;32m     18\u001b[0m y \u001b[38;5;241m=\u001b[39m Dense(\u001b[38;5;241m32\u001b[39m, activation\u001b[38;5;241m=\u001b[39m\u001b[38;5;124m'\u001b[39m\u001b[38;5;124mrelu\u001b[39m\u001b[38;5;124m'\u001b[39m)(y)\n",
      "File \u001b[1;32m~\\anaconda\\Lib\\site-packages\\keras\\src\\layers\\core\\input_layer.py:148\u001b[0m, in \u001b[0;36mInput\u001b[1;34m(shape, batch_size, dtype, sparse, batch_shape, name, tensor, optional)\u001b[0m\n\u001b[0;32m     91\u001b[0m \u001b[38;5;129m@keras_export\u001b[39m([\u001b[38;5;124m\"\u001b[39m\u001b[38;5;124mkeras.layers.Input\u001b[39m\u001b[38;5;124m\"\u001b[39m, \u001b[38;5;124m\"\u001b[39m\u001b[38;5;124mkeras.Input\u001b[39m\u001b[38;5;124m\"\u001b[39m])\n\u001b[0;32m     92\u001b[0m \u001b[38;5;28;01mdef\u001b[39;00m \u001b[38;5;21mInput\u001b[39m(\n\u001b[0;32m     93\u001b[0m     shape\u001b[38;5;241m=\u001b[39m\u001b[38;5;28;01mNone\u001b[39;00m,\n\u001b[1;32m   (...)\u001b[0m\n\u001b[0;32m    100\u001b[0m     optional\u001b[38;5;241m=\u001b[39m\u001b[38;5;28;01mFalse\u001b[39;00m,\n\u001b[0;32m    101\u001b[0m ):\n\u001b[0;32m    102\u001b[0m \u001b[38;5;250m    \u001b[39m\u001b[38;5;124;03m\"\"\"Used to instantiate a Keras tensor.\u001b[39;00m\n\u001b[0;32m    103\u001b[0m \n\u001b[0;32m    104\u001b[0m \u001b[38;5;124;03m    A Keras tensor is a symbolic tensor-like object, which we augment with\u001b[39;00m\n\u001b[1;32m   (...)\u001b[0m\n\u001b[0;32m    146\u001b[0m \u001b[38;5;124;03m    ```\u001b[39;00m\n\u001b[0;32m    147\u001b[0m \u001b[38;5;124;03m    \"\"\"\u001b[39;00m\n\u001b[1;32m--> 148\u001b[0m     layer \u001b[38;5;241m=\u001b[39m InputLayer(\n\u001b[0;32m    149\u001b[0m         shape\u001b[38;5;241m=\u001b[39mshape,\n\u001b[0;32m    150\u001b[0m         batch_size\u001b[38;5;241m=\u001b[39mbatch_size,\n\u001b[0;32m    151\u001b[0m         dtype\u001b[38;5;241m=\u001b[39mdtype,\n\u001b[0;32m    152\u001b[0m         sparse\u001b[38;5;241m=\u001b[39msparse,\n\u001b[0;32m    153\u001b[0m         batch_shape\u001b[38;5;241m=\u001b[39mbatch_shape,\n\u001b[0;32m    154\u001b[0m         name\u001b[38;5;241m=\u001b[39mname,\n\u001b[0;32m    155\u001b[0m         input_tensor\u001b[38;5;241m=\u001b[39mtensor,\n\u001b[0;32m    156\u001b[0m         optional\u001b[38;5;241m=\u001b[39moptional,\n\u001b[0;32m    157\u001b[0m     )\n\u001b[0;32m    158\u001b[0m     \u001b[38;5;28;01mreturn\u001b[39;00m layer\u001b[38;5;241m.\u001b[39moutput\n",
      "File \u001b[1;32m~\\anaconda\\Lib\\site-packages\\keras\\src\\layers\\core\\input_layer.py:47\u001b[0m, in \u001b[0;36mInputLayer.__init__\u001b[1;34m(self, shape, batch_size, dtype, sparse, batch_shape, input_tensor, optional, name, **kwargs)\u001b[0m\n\u001b[0;32m     44\u001b[0m     \u001b[38;5;28;01mraise\u001b[39;00m \u001b[38;5;167;01mValueError\u001b[39;00m(\u001b[38;5;124m\"\u001b[39m\u001b[38;5;124mYou must pass a `shape` argument.\u001b[39m\u001b[38;5;124m\"\u001b[39m)\n\u001b[0;32m     46\u001b[0m \u001b[38;5;28;01mif\u001b[39;00m shape \u001b[38;5;129;01mis\u001b[39;00m \u001b[38;5;129;01mnot\u001b[39;00m \u001b[38;5;28;01mNone\u001b[39;00m:\n\u001b[1;32m---> 47\u001b[0m     shape \u001b[38;5;241m=\u001b[39m backend\u001b[38;5;241m.\u001b[39mstandardize_shape(shape)\n\u001b[0;32m     48\u001b[0m     batch_shape \u001b[38;5;241m=\u001b[39m (batch_size,) \u001b[38;5;241m+\u001b[39m shape\n\u001b[0;32m     49\u001b[0m \u001b[38;5;28mself\u001b[39m\u001b[38;5;241m.\u001b[39mbatch_shape \u001b[38;5;241m=\u001b[39m \u001b[38;5;28mtuple\u001b[39m(batch_shape)\n",
      "File \u001b[1;32m~\\anaconda\\Lib\\site-packages\\keras\\src\\backend\\common\\variables.py:530\u001b[0m, in \u001b[0;36mstandardize_shape\u001b[1;34m(shape)\u001b[0m\n\u001b[0;32m    528\u001b[0m     \u001b[38;5;28;01mraise\u001b[39;00m \u001b[38;5;167;01mValueError\u001b[39;00m(\u001b[38;5;124m\"\u001b[39m\u001b[38;5;124mUndefined shapes are not supported.\u001b[39m\u001b[38;5;124m\"\u001b[39m)\n\u001b[0;32m    529\u001b[0m \u001b[38;5;28;01mif\u001b[39;00m \u001b[38;5;129;01mnot\u001b[39;00m \u001b[38;5;28mhasattr\u001b[39m(shape, \u001b[38;5;124m\"\u001b[39m\u001b[38;5;124m__iter__\u001b[39m\u001b[38;5;124m\"\u001b[39m):\n\u001b[1;32m--> 530\u001b[0m     \u001b[38;5;28;01mraise\u001b[39;00m \u001b[38;5;167;01mValueError\u001b[39;00m(\u001b[38;5;124mf\u001b[39m\u001b[38;5;124m\"\u001b[39m\u001b[38;5;124mCannot convert \u001b[39m\u001b[38;5;124m'\u001b[39m\u001b[38;5;132;01m{\u001b[39;00mshape\u001b[38;5;132;01m}\u001b[39;00m\u001b[38;5;124m'\u001b[39m\u001b[38;5;124m to a shape.\u001b[39m\u001b[38;5;124m\"\u001b[39m)\n\u001b[0;32m    531\u001b[0m \u001b[38;5;28;01mif\u001b[39;00m config\u001b[38;5;241m.\u001b[39mbackend() \u001b[38;5;241m==\u001b[39m \u001b[38;5;124m\"\u001b[39m\u001b[38;5;124mtensorflow\u001b[39m\u001b[38;5;124m\"\u001b[39m:\n\u001b[0;32m    532\u001b[0m     \u001b[38;5;28;01mif\u001b[39;00m \u001b[38;5;28misinstance\u001b[39m(shape, tf\u001b[38;5;241m.\u001b[39mTensorShape):\n\u001b[0;32m    533\u001b[0m         \u001b[38;5;66;03m# `tf.TensorShape` may contain `Dimension` objects.\u001b[39;00m\n\u001b[0;32m    534\u001b[0m         \u001b[38;5;66;03m# We need to convert the items in it to either int or `None`\u001b[39;00m\n",
      "\u001b[1;31mValueError\u001b[0m: Cannot convert '7' to a shape."
     ]
    }
   ],
   "source": [
    "# Combine image and tabular data\n",
    "input_shape_img = train_images[0].shape\n",
    "input_shape_tabular = X_train_tabular_scaled.shape[1]\n",
    "\n",
    "# Image input branch\n",
    "img_input = Input(shape=input_shape_img, name='image_input')\n",
    "x = Conv2D(32, (3, 3), activation='relu')(img_input)\n",
    "x = MaxPooling2D((2, 2))(x)\n",
    "x = Conv2D(64, (3, 3), activation='relu')(x)\n",
    "x = MaxPooling2D((2, 2))(x)\n",
    "x = Conv2D(128, (3, 3), activation='relu')(x)\n",
    "x = MaxPooling2D((2, 2))(x)\n",
    "x = Flatten()(x)\n",
    "\n",
    "# Tabular input branch\n",
    "tabular_input = Input(shape=input_shape_tabular, name='tabular_input')\n",
    "y = Dense(64, activation='relu')(tabular_input)\n",
    "y = Dense(32, activation='relu')(y)\n",
    "\n",
    "# Concatenate image and tabular branches\n",
    "combined = Concatenate()([x, y])\n",
    "z = Dense(64, activation='relu')(combined)\n",
    "output = Dense(1, activation='sigmoid')(z)  # Adjust output layer based on your label format\n",
    "\n",
    "# Build model\n",
    "model = Model(inputs=[img_input, tabular_input], outputs=output)\n",
    "model.compile(optimizer='adam', loss='binary_crossentropy', metrics=['accuracy'])"
   ]
  },
  {
   "cell_type": "code",
   "execution_count": null,
   "id": "c0adb970-e111-4533-b664-969b83601178",
   "metadata": {},
   "outputs": [],
   "source": []
  }
 ],
 "metadata": {
  "kernelspec": {
   "display_name": "Python 3 (ipykernel)",
   "language": "python",
   "name": "python3"
  },
  "language_info": {
   "codemirror_mode": {
    "name": "ipython",
    "version": 3
   },
   "file_extension": ".py",
   "mimetype": "text/x-python",
   "name": "python",
   "nbconvert_exporter": "python",
   "pygments_lexer": "ipython3",
   "version": "3.11.7"
  }
 },
 "nbformat": 4,
 "nbformat_minor": 5
}
