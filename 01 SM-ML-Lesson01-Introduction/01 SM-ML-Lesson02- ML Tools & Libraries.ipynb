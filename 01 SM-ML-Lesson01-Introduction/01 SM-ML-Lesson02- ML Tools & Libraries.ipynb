{
 "cells": [
  {
   "cell_type": "markdown",
   "id": "279cd79b-4d8d-4d57-a7c8-4999d7605ffa",
   "metadata": {},
   "source": [
    "### ML Tools and Libraries\n",
    "\n",
    "Machine Learning (ML) has grown rapidly, and with it, a plethora of tools and libraries have emerged to support various aspects of the ML lifecycle. These tools and libraries simplify the process of building, training, and deploying ML models. Below are some of the most popular ML tools and libraries, categorized based on their functionality:\n",
    "\n",
    "#### 1\\. **Data Preprocessing and Manipulation**\n",
    "\n",
    "-   **Pandas**: A powerful Python library for data manipulation and analysis. It provides data structures and functions needed to manipulate structured data seamlessly.\n",
    "-   **NumPy**: A fundamental package for numerical computation in Python. It offers support for arrays, matrices, and high-level mathematical functions.\n",
    "-   **SciPy**: An ecosystem of open-source software for mathematics, science, and engineering. It builds on NumPy and provides additional functionality for optimization, integration, and statistics.\n",
    "\n",
    "#### 2\\. **Data Visualization**\n",
    "\n",
    "-   **Matplotlib**: A plotting library for Python and its numerical mathematics extension, NumPy. It provides a flexible way to create static, animated, and interactive visualizations.\n",
    "-   **Seaborn**: A Python visualization library based on Matplotlib that provides a high-level interface for drawing attractive statistical graphics.\n",
    "-   **Plotly**: An interactive graphing library for Python. It makes it easy to create interactive plots, dashboards, and web applications.\n",
    "\n",
    "#### 3\\. **Core Machine Learning Libraries**\n",
    "\n",
    "-   **Scikit-Learn**: A Python module integrating a wide range of state-of-the-art ML algorithms for medium-scale supervised and unsupervised problems.\n",
    "-   **TensorFlow**: An open-source framework developed by Google for building and deploying ML models. It supports deep learning and a wide array of flexible tools and libraries.\n",
    "-   **Keras**: An open-source software library that provides a Python interface for artificial neural networks. Keras acts as an interface for the TensorFlow library.\n",
    "-   **PyTorch**: An open-source ML library developed by Facebook's AI Research lab. It is used for applications such as computer vision and natural language processing.\n",
    "\n",
    "#### 4\\. **Deep Learning Libraries**\n",
    "\n",
    "-   **TensorFlow**: As mentioned above, it's widely used for developing deep learning models and provides extensive tools for model building, training, and deployment.\n",
    "-   **PyTorch**: Known for its dynamic computation graph, making it easier to debug and develop models. It is very popular in the research community.\n",
    "-   **Caffe**: A deep learning framework made with expression, speed, and modularity in mind. Developed by Berkeley AI Research (BAIR) and community contributors.\n",
    "\n",
    "#### 5\\. **Natural Language Processing (NLP)**\n",
    "\n",
    "-   **NLTK (Natural Language Toolkit)**: A suite of libraries and programs for symbolic and statistical natural language processing for English.\n",
    "-   **spaCy**: An open-source software library for advanced NLP in Python. It is designed specifically for production use and provides a fast and efficient NLP pipeline.\n",
    "-   **Transformers**: A library by Hugging Face that provides thousands of pre-trained models to perform tasks on texts such as classification, information extraction, question answering, and more.\n",
    "\n",
    "#### 6\\. **Reinforcement Learning**\n",
    "\n",
    "-   **OpenAI Gym**: A toolkit for developing and comparing reinforcement learning algorithms. It supports teaching agents everything from walking to playing games like Pong or Pinball.\n",
    "-   **Stable Baselines3**: A set of reliable implementations of reinforcement learning algorithms in PyTorch.\n",
    "\n",
    "#### 7\\. **Model Deployment and Serving**\n",
    "\n",
    "-   **TensorFlow Serving**: A flexible, high-performance serving system for ML models, designed for production environments.\n",
    "-   **Flask**: A lightweight WSGI web application framework in Python. It is often used to deploy ML models as web services.\n",
    "-   **Docker**: A platform that allows developers to package applications into containers---standardized executable components combining application source code with the OS libraries and dependencies required to run that code in any environment."
   ]
  },
  {
   "cell_type": "code",
   "execution_count": null,
   "id": "564784c5-d4d3-450e-ac1a-f934dda50dca",
   "metadata": {},
   "outputs": [],
   "source": []
  }
 ],
 "metadata": {
  "kernelspec": {
   "display_name": "Python 3 (ipykernel)",
   "language": "python",
   "name": "python3"
  },
  "language_info": {
   "codemirror_mode": {
    "name": "ipython",
    "version": 3
   },
   "file_extension": ".py",
   "mimetype": "text/x-python",
   "name": "python",
   "nbconvert_exporter": "python",
   "pygments_lexer": "ipython3",
   "version": "3.11.7"
  }
 },
 "nbformat": 4,
 "nbformat_minor": 5
}
